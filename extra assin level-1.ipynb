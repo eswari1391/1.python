{
 "cells": [
  {
   "cell_type": "code",
   "execution_count": 1,
   "id": "2bb1b74b-d9a2-453a-9423-2ecefdc45fe3",
   "metadata": {},
   "outputs": [
    {
     "name": "stdout",
     "output_type": "stream",
     "text": [
      "Eswas Intelligence Artificielle\n"
     ]
    }
   ],
   "source": [
    "print(\"Eswas Intelligence Artificielle\")"
   ]
  },
  {
   "cell_type": "code",
   "execution_count": 2,
   "id": "687e0fb6-6695-4a15-9835-5f2177ac6bbe",
   "metadata": {},
   "outputs": [
    {
     "name": "stdin",
     "output_type": "stream",
     "text": [
      "Enter Your Institute Name:? Eswas Intelligence Artificielle\n"
     ]
    }
   ],
   "source": [
    "print=input(\"Enter Your Institute Name:?\")\n"
   ]
  },
  {
   "cell_type": "code",
   "execution_count": 4,
   "id": "1f92278d-e46c-4db2-90f4-e534c85d2fb7",
   "metadata": {},
   "outputs": [
    {
     "name": "stdin",
     "output_type": "stream",
     "text": [
      "Enter Your  Name: sinthu\n",
      "Enter Your  age: 22\n",
      "Enter Your School Name: capronhall\n",
      "Enter Your  Degree: Bcom(CA)\n"
     ]
    }
   ],
   "source": [
    "  print=input(\"Enter Your  Name:\")\n",
    "  print=int(input(\"Enter Your  age:\"))\n",
    "  print=input(\"Enter Your School Name:\")\n",
    "  print=input(\"Enter Your  Degree:\")\n",
    "\n",
    "\n",
    "\n"
   ]
  },
  {
   "cell_type": "code",
   "execution_count": 7,
   "id": "a41c8d4f-f5ac-44f9-8c95-5a4861a50581",
   "metadata": {},
   "outputs": [
    {
     "name": "stdout",
     "output_type": "stream",
     "text": [
      "add: 55\n"
     ]
    }
   ],
   "source": [
    "a=22\n",
    "b=33\n",
    "add=a+b\n",
    "print(\"add:\",add)\n",
    "\n",
    "\n"
   ]
  },
  {
   "cell_type": "code",
   "execution_count": 8,
   "id": "febdebaf-aa7c-4c80-8c1a-ea7b9c89fa27",
   "metadata": {},
   "outputs": [
    {
     "name": "stdout",
     "output_type": "stream",
     "text": [
      "sub: 19\n"
     ]
    }
   ],
   "source": [
    "a=52\n",
    "b=33\n",
    "sub=a-b\n",
    "print(\"sub:\",sub)"
   ]
  },
  {
   "cell_type": "code",
   "execution_count": 11,
   "id": "7afe399d-54e5-4710-a88c-aeace6ccf587",
   "metadata": {},
   "outputs": [
    {
     "name": "stdout",
     "output_type": "stream",
     "text": [
      "mul: 1716\n"
     ]
    }
   ],
   "source": [
    "a=52\n",
    "b=33\n",
    "mul=a*b\n",
    "print(\"mul:\",mul)"
   ]
  },
  {
   "cell_type": "code",
   "execution_count": 20,
   "id": "177a45ee-633c-4aef-a208-65ac30572ab9",
   "metadata": {},
   "outputs": [
    {
     "name": "stdout",
     "output_type": "stream",
     "text": [
      "div: 2.4516129032258065\n"
     ]
    }
   ],
   "source": [
    "a=76\n",
    "b=31\n",
    "div=a/b\n",
    "print(\"div:\",div)"
   ]
  },
  {
   "cell_type": "code",
   "execution_count": 26,
   "id": "6dd06c4f-26f3-46d9-ba31-e1fc12e5ad44",
   "metadata": {},
   "outputs": [
    {
     "name": "stdout",
     "output_type": "stream",
     "text": [
      "floordiv: 2\n"
     ]
    }
   ],
   "source": [
    "a=76\n",
    "b=31\n",
    "floordiv=a//b\n",
    "print(\"floordiv:\",floordiv)\n",
    "\n"
   ]
  },
  {
   "cell_type": "code",
   "execution_count": 27,
   "id": "8e50a9fe-4be0-49e9-8b24-ba95a3ed87c5",
   "metadata": {},
   "outputs": [
    {
     "name": "stdout",
     "output_type": "stream",
     "text": [
      "modulo: 14\n"
     ]
    }
   ],
   "source": [
    "a=76\n",
    "b=31\n",
    "modulo=a%b\n",
    "print(\"modulo:\",modulo)\n"
   ]
  },
  {
   "cell_type": "code",
   "execution_count": 28,
   "id": "0f663d10-31b1-4c79-9a90-d8c02cdb33bf",
   "metadata": {},
   "outputs": [
    {
     "name": "stdout",
     "output_type": "stream",
     "text": [
      "power: 256\n"
     ]
    }
   ],
   "source": [
    "a=4\n",
    "b=4\n",
    "power=a**b\n",
    "print(\"power:\",power)"
   ]
  },
  {
   "cell_type": "code",
   "execution_count": null,
   "id": "8b9768a8-542f-46ea-bb28-097dd202906b",
   "metadata": {},
   "outputs": [],
   "source": []
  }
 ],
 "metadata": {
  "kernelspec": {
   "display_name": "Python 3 (ipykernel)",
   "language": "python",
   "name": "python3"
  },
  "language_info": {
   "codemirror_mode": {
    "name": "ipython",
    "version": 3
   },
   "file_extension": ".py",
   "mimetype": "text/x-python",
   "name": "python",
   "nbconvert_exporter": "python",
   "pygments_lexer": "ipython3",
   "version": "3.12.4"
  }
 },
 "nbformat": 4,
 "nbformat_minor": 5
}
